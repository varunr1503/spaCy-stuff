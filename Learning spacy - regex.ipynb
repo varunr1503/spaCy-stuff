{
 "cells": [
  {
   "cell_type": "code",
   "execution_count": 5,
   "id": "f3b52512",
   "metadata": {},
   "outputs": [],
   "source": [
    "#Import the requisite library\n",
    "#import spacy"
   ]
  },
  {
   "cell_type": "code",
   "execution_count": 2,
   "id": "e3631b36",
   "metadata": {},
   "outputs": [
    {
     "name": "stdout",
     "output_type": "stream",
     "text": [
      "555-5555 PHONE_NUMBER\n"
     ]
    }
   ],
   "source": [
    "# #Sample text\n",
    "# text = \"This is a sample number 555-5555.\"\n",
    "\n",
    "# #Build upon the spaCy Small Model\n",
    "# nlp = spacy.blank(\"en\")\n",
    "\n",
    "# #Create the Ruler and Add it\n",
    "# ruler = nlp.add_pipe(\"entity_ruler\")\n",
    "\n",
    "# #List of Entities and Patterns (source: https://spacy.io/usage/rule-based-matching)\n",
    "# patterns = [\n",
    "#                 {\"label\": \"PHONE_NUMBER\", \"pattern\": [{\"SHAPE\": \"ddd\"},\n",
    "#                 {\"ORTH\": \"-\", \"OP\": \"?\"}, {\"SHAPE\": \"dddd\"}]}\n",
    "#             ]\n",
    "# #add patterns to ruler\n",
    "# ruler.add_patterns(patterns)\n",
    "\n",
    "# #create the doc\n",
    "# doc = nlp(text)\n",
    "\n",
    "# #extract entities\n",
    "# for ent in doc.ents:\n",
    "#     print (ent.text, ent.label_)"
   ]
  },
  {
   "cell_type": "code",
   "execution_count": 3,
   "id": "ec776700",
   "metadata": {},
   "outputs": [],
   "source": [
    "# #Sample text\n",
    "# text = \"This is a sample number (555) 555-5555.\"\n",
    "\n",
    "# #Build upon the spaCy Small Model\n",
    "# nlp = spacy.blank(\"en\")\n",
    "\n",
    "# #Create the Ruler and Add it\n",
    "# ruler = nlp.add_pipe(\"entity_ruler\")\n",
    "\n",
    "# #List of Entities and Patterns (source: https://spacy.io/usage/rule-based-matching)\n",
    "# patterns = [\n",
    "#                 {\n",
    "#                     \"label\": \"PHONE_NUMBER\", \"pattern\": [{\"TEXT\": {\"REGEX\": \"((\\d){3}-(\\d){4})\"}}\n",
    "#                                                         ]\n",
    "#                 }\n",
    "#             ]\n",
    "# #add patterns to ruler\n",
    "# ruler.add_patterns(patterns)\n",
    "\n",
    "\n",
    "# #create the doc\n",
    "# doc = nlp(text)\n",
    "\n",
    "# #extract entities\n",
    "# for ent in doc.ents:\n",
    "#     print (ent.text, ent.label_)\n",
    "# #\"This is for one very important reason. SpaCy’s EntityRuler cannot use RegEx to pattern match across tokens.\n",
    "# #  The dash in the phone number throws off the EntityRuler.\""
   ]
  },
  {
   "cell_type": "code",
   "execution_count": 6,
   "id": "31a77dce",
   "metadata": {},
   "outputs": [],
   "source": [
    "import re"
   ]
  },
  {
   "cell_type": "code",
   "execution_count": 7,
   "id": "94c170f5",
   "metadata": {},
   "outputs": [],
   "source": [
    "text = \"Paul Newman was an American actor, but Paul Hollywood is a British TV Host. The name Paul is quite common.\""
   ]
  },
  {
   "cell_type": "code",
   "execution_count": 9,
   "id": "98507639",
   "metadata": {},
   "outputs": [
    {
     "name": "stdout",
     "output_type": "stream",
     "text": [
      "<re.Match object; span=(0, 11), match='Paul Newman'>\n",
      "<re.Match object; span=(39, 53), match='Paul Hollywood'>\n"
     ]
    }
   ],
   "source": [
    "pattern = r\"Paul [A-Z]\\w+\"\n",
    "matches = re.finditer(pattern, text)\n",
    "for match in matches:\n",
    "    print(match)"
   ]
  },
  {
   "cell_type": "code",
   "execution_count": 10,
   "id": "330143b6",
   "metadata": {},
   "outputs": [],
   "source": [
    "import spacy\n",
    "from spacy.tokens import Span"
   ]
  },
  {
   "cell_type": "code",
   "execution_count": 11,
   "id": "914be7b5",
   "metadata": {},
   "outputs": [],
   "source": [
    "nlp = spacy.blank(\"en\")\n",
    "doc = nlp(text)"
   ]
  },
  {
   "cell_type": "code",
   "execution_count": 13,
   "id": "f04111a8",
   "metadata": {},
   "outputs": [],
   "source": [
    "original_ents = list(doc.ents) #will be empty cause of no ner\n",
    "mwt_ents = []\n",
    "for match in re.finditer(pattern, text):\n",
    "    start, end = match.span()\n",
    "    span = doc.char_span(start, end)\n",
    "    if span is not None:\n",
    "        mwt_ents.append((span.start, span.end, span.text))"
   ]
  },
  {
   "cell_type": "code",
   "execution_count": 14,
   "id": "ca1dbe25",
   "metadata": {},
   "outputs": [
    {
     "name": "stdout",
     "output_type": "stream",
     "text": [
      "[(0, 2, 'Paul Newman'), (8, 10, 'Paul Hollywood')]\n"
     ]
    }
   ],
   "source": [
    "print(mwt_ents)"
   ]
  },
  {
   "cell_type": "code",
   "execution_count": 17,
   "id": "f963d1cf",
   "metadata": {},
   "outputs": [
    {
     "name": "stdout",
     "output_type": "stream",
     "text": [
      "Paul Newman PERSON\n",
      "Paul Hollywood PERSON\n"
     ]
    }
   ],
   "source": [
    "for ent in mwt_ents:\n",
    "    start, end, name = ent\n",
    "    per_ent = Span(doc, start, end, label = \"PERSON\")\n",
    "    original_ents.append(per_ent)\n",
    "    doc.ents = original_ents\n",
    "for ent in doc.ents:\n",
    "    print(ent.text, ent.label_)"
   ]
  },
  {
   "cell_type": "code",
   "execution_count": 25,
   "id": "6b725826",
   "metadata": {},
   "outputs": [],
   "source": [
    "#trying to put this into an actual custom pipeline\n",
    "#THIS IS IMPLEMENTING REGEX ACROSS MULTIPLE TOKENSnl\n",
    "from spacy.language import Language\n",
    "@Language.component(\"paul_ner\")\n",
    "def paul_ner(doc):\n",
    "    pattern = r\"Paul [A-Z]\\w+\"\n",
    "    original_ents = list(doc.ents) #will be empty cause of no ner\n",
    "    mwt_ents = []\n",
    "    for match in re.finditer(pattern, text):\n",
    "        start, end = match.span()\n",
    "        span = doc.char_span(start, end)\n",
    "        if span is not None:\n",
    "            mwt_ents.append((span.start, span.end, span.text))\n",
    "    for ent in mwt_ents:\n",
    "        start, end, name = ent\n",
    "        per_ent = Span(doc, start, end, label = \"PERSON\")\n",
    "        original_ents.append(per_ent)\n",
    "    doc.ents = original_ents\n",
    "    \n",
    "    \n",
    "    return(doc)"
   ]
  },
  {
   "cell_type": "code",
   "execution_count": 26,
   "id": "d836b994",
   "metadata": {},
   "outputs": [
    {
     "data": {
      "text/plain": [
       "<function __main__.paul_ner(doc)>"
      ]
     },
     "execution_count": 26,
     "metadata": {},
     "output_type": "execute_result"
    }
   ],
   "source": [
    "nlp2 = spacy.blank(\"en\")\n",
    "nlp2.add_pipe(\"paul_ner\")"
   ]
  },
  {
   "cell_type": "code",
   "execution_count": 28,
   "id": "5f573fb8",
   "metadata": {},
   "outputs": [
    {
     "name": "stdout",
     "output_type": "stream",
     "text": [
      "(Paul Newman, Paul Hollywood)\n"
     ]
    }
   ],
   "source": [
    "doc2 = nlp2(text)\n",
    "print(doc.ents)"
   ]
  },
  {
   "cell_type": "code",
   "execution_count": null,
   "id": "8720f488",
   "metadata": {},
   "outputs": [],
   "source": []
  }
 ],
 "metadata": {
  "kernelspec": {
   "display_name": "Python 3 (ipykernel)",
   "language": "python",
   "name": "python3"
  },
  "language_info": {
   "codemirror_mode": {
    "name": "ipython",
    "version": 3
   },
   "file_extension": ".py",
   "mimetype": "text/x-python",
   "name": "python",
   "nbconvert_exporter": "python",
   "pygments_lexer": "ipython3",
   "version": "3.11.4"
  }
 },
 "nbformat": 4,
 "nbformat_minor": 5
}
