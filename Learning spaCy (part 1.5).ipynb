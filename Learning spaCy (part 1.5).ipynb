{
 "cells": [
  {
   "cell_type": "code",
   "execution_count": 1,
   "id": "3110a28b",
   "metadata": {},
   "outputs": [],
   "source": [
    "import spacy"
   ]
  },
  {
   "cell_type": "code",
   "execution_count": 2,
   "id": "a16d22b8",
   "metadata": {},
   "outputs": [
    {
     "name": "stdout",
     "output_type": "stream",
     "text": [
      "Collecting en-core-web-md==3.6.0\n",
      "  Downloading https://github.com/explosion/spacy-models/releases/download/en_core_web_md-3.6.0/en_core_web_md-3.6.0-py3-none-any.whl (42.8 MB)\n",
      "     ---------------------------------------- 0.0/42.8 MB ? eta -:--:--\n",
      "     ---------------------------------------- 0.2/42.8 MB 5.0 MB/s eta 0:00:09\n",
      "      --------------------------------------- 0.9/42.8 MB 9.8 MB/s eta 0:00:05\n",
      "     - -------------------------------------- 2.0/42.8 MB 13.9 MB/s eta 0:00:03\n",
      "     --- ------------------------------------ 3.2/42.8 MB 17.2 MB/s eta 0:00:03\n",
      "     ---- ----------------------------------- 4.4/42.8 MB 20.0 MB/s eta 0:00:02\n",
      "     ----- ---------------------------------- 5.6/42.8 MB 21.0 MB/s eta 0:00:02\n",
      "     ------ --------------------------------- 6.9/42.8 MB 22.1 MB/s eta 0:00:02\n",
      "     ------- -------------------------------- 7.7/42.8 MB 20.5 MB/s eta 0:00:02\n",
      "     ------- -------------------------------- 8.4/42.8 MB 20.5 MB/s eta 0:00:02\n",
      "     ------- -------------------------------- 8.4/42.8 MB 20.5 MB/s eta 0:00:02\n",
      "     ------- -------------------------------- 8.4/42.8 MB 20.5 MB/s eta 0:00:02\n",
      "     ------- -------------------------------- 8.4/42.8 MB 20.5 MB/s eta 0:00:02\n",
      "     ------- -------------------------------- 8.4/42.8 MB 20.5 MB/s eta 0:00:02\n",
      "     -------- ------------------------------- 9.1/42.8 MB 13.8 MB/s eta 0:00:03\n",
      "     -------- ------------------------------- 9.6/42.8 MB 13.0 MB/s eta 0:00:03\n",
      "     --------- ----------------------------- 10.6/42.8 MB 14.2 MB/s eta 0:00:03\n",
      "     ---------- ---------------------------- 11.6/42.8 MB 14.6 MB/s eta 0:00:03\n",
      "     ----------- --------------------------- 12.5/42.8 MB 14.2 MB/s eta 0:00:03\n",
      "     ------------ -------------------------- 13.6/42.8 MB 14.2 MB/s eta 0:00:03\n",
      "     ------------- ------------------------- 14.7/42.8 MB 14.2 MB/s eta 0:00:02\n",
      "     ------------- ------------------------- 15.2/42.8 MB 13.6 MB/s eta 0:00:03\n",
      "     -------------- ------------------------ 16.2/42.8 MB 13.4 MB/s eta 0:00:02\n",
      "     --------------- ----------------------- 17.4/42.8 MB 13.4 MB/s eta 0:00:02\n",
      "     --------------- ----------------------- 17.5/42.8 MB 12.6 MB/s eta 0:00:03\n",
      "     ---------------- ---------------------- 17.9/42.8 MB 12.6 MB/s eta 0:00:02\n",
      "     ---------------- ---------------------- 18.0/42.8 MB 11.9 MB/s eta 0:00:03\n",
      "     ---------------- ---------------------- 18.3/42.8 MB 11.7 MB/s eta 0:00:03\n",
      "     ----------------- --------------------- 18.9/42.8 MB 14.9 MB/s eta 0:00:02\n",
      "     ------------------ -------------------- 19.8/42.8 MB 15.6 MB/s eta 0:00:02\n",
      "     ------------------- ------------------- 20.8/42.8 MB 16.0 MB/s eta 0:00:02\n",
      "     -------------------- ------------------ 22.0/42.8 MB 16.0 MB/s eta 0:00:02\n",
      "     -------------------- ------------------ 23.0/42.8 MB 16.4 MB/s eta 0:00:02\n",
      "     --------------------- ----------------- 23.6/42.8 MB 15.6 MB/s eta 0:00:02\n",
      "     ---------------------- ---------------- 24.6/42.8 MB 15.2 MB/s eta 0:00:02\n",
      "     ----------------------- --------------- 25.3/42.8 MB 16.0 MB/s eta 0:00:02\n",
      "     ----------------------- --------------- 26.0/42.8 MB 15.2 MB/s eta 0:00:02\n",
      "     ------------------------ -------------- 26.4/42.8 MB 15.2 MB/s eta 0:00:02\n",
      "     ------------------------ -------------- 26.8/42.8 MB 14.2 MB/s eta 0:00:02\n",
      "     ------------------------ -------------- 27.0/42.8 MB 13.4 MB/s eta 0:00:02\n",
      "     ------------------------- ------------- 28.0/42.8 MB 14.6 MB/s eta 0:00:02\n",
      "     -------------------------- ------------ 28.8/42.8 MB 16.8 MB/s eta 0:00:01\n",
      "     --------------------------- ----------- 30.0/42.8 MB 17.2 MB/s eta 0:00:01\n",
      "     ---------------------------- ---------- 31.0/42.8 MB 16.8 MB/s eta 0:00:01\n",
      "     ---------------------------- ---------- 31.7/42.8 MB 16.8 MB/s eta 0:00:01\n",
      "     ----------------------------- --------- 32.8/42.8 MB 16.4 MB/s eta 0:00:01\n",
      "     ------------------------------ -------- 33.9/42.8 MB 17.2 MB/s eta 0:00:01\n",
      "     ------------------------------- ------- 34.7/42.8 MB 17.7 MB/s eta 0:00:01\n",
      "     -------------------------------- ------ 35.5/42.8 MB 17.3 MB/s eta 0:00:01\n",
      "     --------------------------------- ----- 36.6/42.8 MB 18.2 MB/s eta 0:00:01\n",
      "     ---------------------------------- ---- 37.6/42.8 MB 21.1 MB/s eta 0:00:01\n",
      "     ----------------------------------- --- 38.6/42.8 MB 21.1 MB/s eta 0:00:01\n",
      "     ----------------------------------- --- 39.2/42.8 MB 21.1 MB/s eta 0:00:01\n",
      "     ------------------------------------ -- 39.7/42.8 MB 19.8 MB/s eta 0:00:01\n",
      "     ------------------------------------ -- 39.9/42.8 MB 19.3 MB/s eta 0:00:01\n",
      "     ------------------------------------ -- 40.2/42.8 MB 17.2 MB/s eta 0:00:01\n",
      "     ------------------------------------ -- 40.6/42.8 MB 16.8 MB/s eta 0:00:01\n",
      "     ------------------------------------- - 40.8/42.8 MB 16.0 MB/s eta 0:00:01\n",
      "     ------------------------------------- - 41.6/42.8 MB 15.2 MB/s eta 0:00:01\n",
      "     --------------------------------------  42.2/42.8 MB 14.9 MB/s eta 0:00:01\n",
      "     --------------------------------------  42.8/42.8 MB 14.9 MB/s eta 0:00:01\n",
      "     --------------------------------------  42.8/42.8 MB 14.9 MB/s eta 0:00:01\n",
      "     --------------------------------------  42.8/42.8 MB 14.9 MB/s eta 0:00:01\n",
      "     --------------------------------------  42.8/42.8 MB 14.9 MB/s eta 0:00:01\n",
      "     --------------------------------------  42.8/42.8 MB 14.9 MB/s eta 0:00:01\n",
      "     ---------------------------------------- 42.8/42.8 MB 9.8 MB/s eta 0:00:00\n",
      "Requirement already satisfied: spacy<3.7.0,>=3.6.0 in c:\\users\\varun\\anaconda3\\lib\\site-packages (from en-core-web-md==3.6.0) (3.6.1)\n",
      "Requirement already satisfied: spacy-legacy<3.1.0,>=3.0.11 in c:\\users\\varun\\anaconda3\\lib\\site-packages (from spacy<3.7.0,>=3.6.0->en-core-web-md==3.6.0) (3.0.12)\n",
      "Requirement already satisfied: spacy-loggers<2.0.0,>=1.0.0 in c:\\users\\varun\\anaconda3\\lib\\site-packages (from spacy<3.7.0,>=3.6.0->en-core-web-md==3.6.0) (1.0.5)\n",
      "Requirement already satisfied: murmurhash<1.1.0,>=0.28.0 in c:\\users\\varun\\anaconda3\\lib\\site-packages (from spacy<3.7.0,>=3.6.0->en-core-web-md==3.6.0) (1.0.10)\n",
      "Requirement already satisfied: cymem<2.1.0,>=2.0.2 in c:\\users\\varun\\anaconda3\\lib\\site-packages (from spacy<3.7.0,>=3.6.0->en-core-web-md==3.6.0) (2.0.8)\n",
      "Requirement already satisfied: preshed<3.1.0,>=3.0.2 in c:\\users\\varun\\anaconda3\\lib\\site-packages (from spacy<3.7.0,>=3.6.0->en-core-web-md==3.6.0) (3.0.9)\n",
      "Requirement already satisfied: thinc<8.2.0,>=8.1.8 in c:\\users\\varun\\anaconda3\\lib\\site-packages (from spacy<3.7.0,>=3.6.0->en-core-web-md==3.6.0) (8.1.12)\n",
      "Requirement already satisfied: wasabi<1.2.0,>=0.9.1 in c:\\users\\varun\\anaconda3\\lib\\site-packages (from spacy<3.7.0,>=3.6.0->en-core-web-md==3.6.0) (1.1.2)\n",
      "Requirement already satisfied: srsly<3.0.0,>=2.4.3 in c:\\users\\varun\\anaconda3\\lib\\site-packages (from spacy<3.7.0,>=3.6.0->en-core-web-md==3.6.0) (2.4.8)\n",
      "Requirement already satisfied: catalogue<2.1.0,>=2.0.6 in c:\\users\\varun\\anaconda3\\lib\\site-packages (from spacy<3.7.0,>=3.6.0->en-core-web-md==3.6.0) (2.0.9)\n",
      "Requirement already satisfied: typer<0.10.0,>=0.3.0 in c:\\users\\varun\\anaconda3\\lib\\site-packages (from spacy<3.7.0,>=3.6.0->en-core-web-md==3.6.0) (0.9.0)\n",
      "Requirement already satisfied: pathy>=0.10.0 in c:\\users\\varun\\anaconda3\\lib\\site-packages (from spacy<3.7.0,>=3.6.0->en-core-web-md==3.6.0) (0.10.2)\n",
      "Requirement already satisfied: smart-open<7.0.0,>=5.2.1 in c:\\users\\varun\\anaconda3\\lib\\site-packages (from spacy<3.7.0,>=3.6.0->en-core-web-md==3.6.0) (5.2.1)\n",
      "Requirement already satisfied: tqdm<5.0.0,>=4.38.0 in c:\\users\\varun\\anaconda3\\lib\\site-packages (from spacy<3.7.0,>=3.6.0->en-core-web-md==3.6.0) (4.65.0)\n",
      "Requirement already satisfied: numpy>=1.15.0 in c:\\users\\varun\\anaconda3\\lib\\site-packages (from spacy<3.7.0,>=3.6.0->en-core-web-md==3.6.0) (1.24.3)\n",
      "Requirement already satisfied: requests<3.0.0,>=2.13.0 in c:\\users\\varun\\anaconda3\\lib\\site-packages (from spacy<3.7.0,>=3.6.0->en-core-web-md==3.6.0) (2.31.0)\n",
      "Requirement already satisfied: pydantic!=1.8,!=1.8.1,<3.0.0,>=1.7.4 in c:\\users\\varun\\anaconda3\\lib\\site-packages (from spacy<3.7.0,>=3.6.0->en-core-web-md==3.6.0) (2.3.0)\n",
      "Requirement already satisfied: jinja2 in c:\\users\\varun\\anaconda3\\lib\\site-packages (from spacy<3.7.0,>=3.6.0->en-core-web-md==3.6.0) (3.1.2)\n",
      "Requirement already satisfied: setuptools in c:\\users\\varun\\anaconda3\\lib\\site-packages (from spacy<3.7.0,>=3.6.0->en-core-web-md==3.6.0) (68.2.2)\n",
      "Requirement already satisfied: packaging>=20.0 in c:\\users\\varun\\anaconda3\\lib\\site-packages (from spacy<3.7.0,>=3.6.0->en-core-web-md==3.6.0) (23.0)\n",
      "Requirement already satisfied: langcodes<4.0.0,>=3.2.0 in c:\\users\\varun\\anaconda3\\lib\\site-packages (from spacy<3.7.0,>=3.6.0->en-core-web-md==3.6.0) (3.3.0)\n",
      "Requirement already satisfied: annotated-types>=0.4.0 in c:\\users\\varun\\anaconda3\\lib\\site-packages (from pydantic!=1.8,!=1.8.1,<3.0.0,>=1.7.4->spacy<3.7.0,>=3.6.0->en-core-web-md==3.6.0) (0.5.0)\n",
      "Requirement already satisfied: pydantic-core==2.6.3 in c:\\users\\varun\\anaconda3\\lib\\site-packages (from pydantic!=1.8,!=1.8.1,<3.0.0,>=1.7.4->spacy<3.7.0,>=3.6.0->en-core-web-md==3.6.0) (2.6.3)\n",
      "Requirement already satisfied: typing-extensions>=4.6.1 in c:\\users\\varun\\anaconda3\\lib\\site-packages (from pydantic!=1.8,!=1.8.1,<3.0.0,>=1.7.4->spacy<3.7.0,>=3.6.0->en-core-web-md==3.6.0) (4.8.0)\n",
      "Requirement already satisfied: charset-normalizer<4,>=2 in c:\\users\\varun\\anaconda3\\lib\\site-packages (from requests<3.0.0,>=2.13.0->spacy<3.7.0,>=3.6.0->en-core-web-md==3.6.0) (2.0.4)\n",
      "Requirement already satisfied: idna<4,>=2.5 in c:\\users\\varun\\anaconda3\\lib\\site-packages (from requests<3.0.0,>=2.13.0->spacy<3.7.0,>=3.6.0->en-core-web-md==3.6.0) (3.4)\n",
      "Requirement already satisfied: urllib3<3,>=1.21.1 in c:\\users\\varun\\anaconda3\\lib\\site-packages (from requests<3.0.0,>=2.13.0->spacy<3.7.0,>=3.6.0->en-core-web-md==3.6.0) (1.26.16)\n",
      "Requirement already satisfied: certifi>=2017.4.17 in c:\\users\\varun\\anaconda3\\lib\\site-packages (from requests<3.0.0,>=2.13.0->spacy<3.7.0,>=3.6.0->en-core-web-md==3.6.0) (2023.7.22)\n",
      "Requirement already satisfied: blis<0.8.0,>=0.7.8 in c:\\users\\varun\\anaconda3\\lib\\site-packages (from thinc<8.2.0,>=8.1.8->spacy<3.7.0,>=3.6.0->en-core-web-md==3.6.0) (0.7.11)\n",
      "Requirement already satisfied: confection<1.0.0,>=0.0.1 in c:\\users\\varun\\anaconda3\\lib\\site-packages (from thinc<8.2.0,>=8.1.8->spacy<3.7.0,>=3.6.0->en-core-web-md==3.6.0) (0.1.3)\n",
      "Requirement already satisfied: colorama in c:\\users\\varun\\anaconda3\\lib\\site-packages (from tqdm<5.0.0,>=4.38.0->spacy<3.7.0,>=3.6.0->en-core-web-md==3.6.0) (0.4.6)\n",
      "Requirement already satisfied: click<9.0.0,>=7.1.1 in c:\\users\\varun\\anaconda3\\lib\\site-packages (from typer<0.10.0,>=0.3.0->spacy<3.7.0,>=3.6.0->en-core-web-md==3.6.0) (8.0.4)\n",
      "Requirement already satisfied: MarkupSafe>=2.0 in c:\\users\\varun\\anaconda3\\lib\\site-packages (from jinja2->spacy<3.7.0,>=3.6.0->en-core-web-md==3.6.0) (2.1.1)\n",
      "Installing collected packages: en-core-web-md\n",
      "Successfully installed en-core-web-md-3.6.0\n",
      "\u001b[38;5;2m[+] Download and installation successful\u001b[0m\n",
      "You can now load the package via spacy.load('en_core_web_md')\n"
     ]
    }
   ],
   "source": [
    "!python -m spacy download en_core_web_md"
   ]
  },
  {
   "cell_type": "code",
   "execution_count": 3,
   "id": "beeed6d9",
   "metadata": {},
   "outputs": [],
   "source": [
    "nlp = spacy.load('en_core_web_md')"
   ]
  },
  {
   "cell_type": "code",
   "execution_count": 5,
   "id": "1c241db7",
   "metadata": {},
   "outputs": [],
   "source": [
    "with open(\"wiki_us.txt\", \"r\",encoding='utf-8') as f:\n",
    "    text = f.read()"
   ]
  },
  {
   "cell_type": "code",
   "execution_count": 7,
   "id": "4f2926ae",
   "metadata": {},
   "outputs": [
    {
     "data": {
      "text/plain": [
       "The United States of America (U.S.A. or USA), commonly known as the United States (U.S. or US) or America, is a country primarily located in North America. It consists of 50 states, a federal district, five major unincorporated territories, 326 Indian reservations, and some minor possessions.[j] At 3.8 million square miles (9.8 million square kilometers), it is the world's third- or fourth-largest country by total area.[d] The United States shares significant land borders with Canada to the north and Mexico to the south, as well as limited maritime borders with the Bahamas, Cuba, and Russia.[22] With a population of more than 331 million people, it is the third most populous country in the world. The national capital is Washington, D.C., and the most populous city is New York.\n",
       "\n",
       "Paleo-Indians migrated from Siberia to the North American mainland at least 12,000 years ago, and European colonization began in the 16th century. The United States emerged from the thirteen British colonies established along the East Coast. Disputes over taxation and political representation with Great Britain led to the American Revolutionary War (1775–1783), which established independence. In the late 18th century, the U.S. began expanding across North America, gradually obtaining new territories, sometimes through war, frequently displacing Native Americans, and admitting new states; by 1848, the United States spanned the continent. Slavery was legal in the southern United States until the second half of the 19th century when the American Civil War led to its abolition. The Spanish–American War and World War I established the U.S. as a world power, a status confirmed by the outcome of World War II.\n",
       "\n",
       "During the Cold War, the United States fought the Korean War and the Vietnam War but avoided direct military conflict with the Soviet Union. The two superpowers competed in the Space Race, culminating in the 1969 spaceflight that first landed humans on the Moon. The Soviet Union's dissolution in 1991 ended the Cold War, leaving the United States as the world's sole superpower.\n",
       "\n",
       "The United States is a federal republic and a representative democracy with three separate branches of government, including a bicameral legislature. It is a founding member of the United Nations, World Bank, International Monetary Fund, Organization of American States, NATO, and other international organizations. It is a permanent member of the United Nations Security Council. Considered a melting pot of cultures and ethnicities, its population has been profoundly shaped by centuries of immigration. The country ranks high in international measures of economic freedom, quality of life, education, and human rights, and has low levels of perceived corruption. However, the country has received criticism concerning inequality related to race, wealth and income, the use of capital punishment, high incarceration rates, and lack of universal health care.\n",
       "\n",
       "The United States is a highly developed country, accounts for approximately a quarter of global GDP, and is the world's largest economy. By value, the United States is the world's largest importer and the second-largest exporter of goods. Although its population is only 4.2% of the world's total, it holds 29.4% of the total wealth in the world, the largest share held by any country. Making up more than a third of global military spending, it is the foremost military power in the world; and it is a leading political, cultural, and scientific force internationally.[23]"
      ]
     },
     "execution_count": 7,
     "metadata": {},
     "output_type": "execute_result"
    }
   ],
   "source": [
    "doc = nlp(text)\n",
    "doc"
   ]
  },
  {
   "cell_type": "code",
   "execution_count": 9,
   "id": "7e8baee3",
   "metadata": {},
   "outputs": [
    {
     "data": {
      "text/plain": [
       "The United States of America (U.S.A. or USA), commonly known as the United States (U.S. or US) or America, is a country primarily located in North America."
      ]
     },
     "execution_count": 9,
     "metadata": {},
     "output_type": "execute_result"
    }
   ],
   "source": [
    "sentence1 = list(doc.sents)[0]\n",
    "sentence1"
   ]
  },
  {
   "cell_type": "code",
   "execution_count": 12,
   "id": "1acf7f72",
   "metadata": {},
   "outputs": [
    {
     "name": "stdout",
     "output_type": "stream",
     "text": [
      "['country—0,467', 'nationâ\\x80\\x99s', 'countries-', 'continente', 'Carnations', 'pastille', 'бесплатно', 'Argents', 'Tywysogion', 'Teeters']\n"
     ]
    }
   ],
   "source": [
    "import numpy as np\n",
    "your_word = \"country\"\n",
    "ms = nlp.vocab.vectors.most_similar(np.asarray([nlp.vocab.vectors[nlp.vocab.strings[your_word]]]), n=10)\n",
    "words = [nlp.vocab.strings[w] for w in ms[0][0]]\n",
    "distances = ms[2]\n",
    "print(words)"
   ]
  },
  {
   "cell_type": "code",
   "execution_count": 15,
   "id": "07bfb879",
   "metadata": {},
   "outputs": [
    {
     "name": "stdout",
     "output_type": "stream",
     "text": [
      "['dogsbody', 'wolfdogs', 'Baeg', 'duppy', 'pet(s', 'postcanine', 'Kebira', 'uppies', 'Toropets', 'moggie']\n"
     ]
    }
   ],
   "source": [
    "your_word = \"dog\"\n",
    "\n",
    "ms = nlp.vocab.vectors.most_similar(\n",
    "    np.asarray([nlp.vocab.vectors[nlp.vocab.strings[your_word]]]), n=10)\n",
    "words = [nlp.vocab.strings[w] for w in ms[0][0]]\n",
    "distances = ms[2]\n",
    "print(words)"
   ]
  },
  {
   "cell_type": "code",
   "execution_count": 27,
   "id": "50adf892",
   "metadata": {},
   "outputs": [],
   "source": [
    "doc1 = nlp(\"I like salty fries and hamburgers.\")\n",
    "doc2 = nlp(\"Fast food tastes very good.\")"
   ]
  },
  {
   "cell_type": "code",
   "execution_count": 28,
   "id": "a254803a",
   "metadata": {},
   "outputs": [
    {
     "name": "stdout",
     "output_type": "stream",
     "text": [
      "I like salty fries and hamburgers. <-> Fast food tastes very good. 0.691649353055761\n"
     ]
    }
   ],
   "source": [
    "print(doc1, \"<->\", doc2 , doc1.similarity(doc2))"
   ]
  },
  {
   "cell_type": "code",
   "execution_count": 31,
   "id": "86810290",
   "metadata": {},
   "outputs": [],
   "source": [
    " doc3 = nlp(\"The dog is black.\")"
   ]
  },
  {
   "cell_type": "code",
   "execution_count": 32,
   "id": "afa6fd43",
   "metadata": {},
   "outputs": [
    {
     "name": "stdout",
     "output_type": "stream",
     "text": [
      "I like salty fries and hamburgers. <-> The dog is black. 0.40095728735377495\n"
     ]
    }
   ],
   "source": [
    "print(doc1, \"<->\", doc3 , doc1.similarity(doc3))"
   ]
  },
  {
   "cell_type": "code",
   "execution_count": 39,
   "id": "9ff9604d",
   "metadata": {},
   "outputs": [],
   "source": [
    "#PIPELINING WITH SPACY\n",
    "nlp = spacy.blank(\"en\")"
   ]
  },
  {
   "cell_type": "code",
   "execution_count": 40,
   "id": "8bf07be8",
   "metadata": {},
   "outputs": [
    {
     "data": {
      "text/plain": [
       "<spacy.pipeline.sentencizer.Sentencizer at 0x1cb17829ed0>"
      ]
     },
     "execution_count": 40,
     "metadata": {},
     "output_type": "execute_result"
    }
   ],
   "source": [
    "nlp.add_pipe(\"sentencizer\") \n",
    "#sometimes we might want our model to do only a few things : \n",
    "#for example if we hav a massive document and only want to split it into sentences we might do this\n",
    "#a lot of time will be saved but the tradeoff is that it might not be as accurate since extra info isnt fed to it"
   ]
  },
  {
   "cell_type": "code",
   "execution_count": null,
   "id": "7df53a6f",
   "metadata": {},
   "outputs": [],
   "source": []
  }
 ],
 "metadata": {
  "kernelspec": {
   "display_name": "Python 3 (ipykernel)",
   "language": "python",
   "name": "python3"
  },
  "language_info": {
   "codemirror_mode": {
    "name": "ipython",
    "version": 3
   },
   "file_extension": ".py",
   "mimetype": "text/x-python",
   "name": "python",
   "nbconvert_exporter": "python",
   "pygments_lexer": "ipython3",
   "version": "3.11.4"
  }
 },
 "nbformat": 4,
 "nbformat_minor": 5
}
