{
 "cells": [
  {
   "cell_type": "code",
   "execution_count": 1,
   "id": "8e2a3a74",
   "metadata": {},
   "outputs": [],
   "source": [
    "import spacy\n",
    "from spacy.matcher import Matcher "
   ]
  },
  {
   "cell_type": "code",
   "execution_count": 2,
   "id": "ca5e46db",
   "metadata": {},
   "outputs": [],
   "source": [
    "nlp = spacy.load('en_core_web_sm')"
   ]
  },
  {
   "cell_type": "code",
   "execution_count": 3,
   "id": "83681bb4",
   "metadata": {},
   "outputs": [],
   "source": [
    "matcher = Matcher(nlp.vocab)\n",
    "pattern = [{\"LIKE_EMAIL\" : True}]\n",
    "matcher.add(\"EMAIL_ADDRESS\", [pattern])"
   ]
  },
  {
   "cell_type": "code",
   "execution_count": 4,
   "id": "c6b9ed92",
   "metadata": {},
   "outputs": [],
   "source": [
    "doc = nlp(\"my email address is not abc123@gmail.com\")\n",
    "matches = matcher(doc)"
   ]
  },
  {
   "cell_type": "code",
   "execution_count": 5,
   "id": "4ec9b74b",
   "metadata": {},
   "outputs": [
    {
     "name": "stdout",
     "output_type": "stream",
     "text": [
      "[(16571425990740197027, 5, 6)]\n"
     ]
    }
   ],
   "source": [
    "print(matches)"
   ]
  },
  {
   "cell_type": "code",
   "execution_count": 6,
   "id": "c90bc253",
   "metadata": {},
   "outputs": [
    {
     "name": "stdout",
     "output_type": "stream",
     "text": [
      "EMAIL_ADDRESS\n"
     ]
    }
   ],
   "source": [
    "print(nlp.vocab[matches[0][0]].text)"
   ]
  },
  {
   "cell_type": "code",
   "execution_count": 7,
   "id": "7d9316cd",
   "metadata": {},
   "outputs": [],
   "source": [
    "with open (\"wiki_mlk.txt\", encoding = 'utf-8') as f:\n",
    "    text = f.read()"
   ]
  },
  {
   "cell_type": "code",
   "execution_count": 8,
   "id": "cebf6cc6",
   "metadata": {},
   "outputs": [
    {
     "data": {
      "text/plain": [
       "'Martin Luther King Jr. (born Michael King Jr.; January 15, 1929 – April 4, 1968) was an American Baptist minister and activist who became the most visible spokesman and leader in the American civil rights movement from 1955 until his assassination in 1968. King advanced civil rights through nonviolence and civil disobedience, inspired by his Christian beliefs and the nonviolent activism of Mahatma Gandhi. He was the son of early civil rights activist and minister Martin Luther King Sr.\\n\\nKing participated in and led marches for blacks\\' right to vote, desegregation, labor rights, and other basic civil rights.[1] King led the 1955 Montgomery bus boycott and later became the first president of the Southern Christian Leadership Conference (SCLC). As president of the SCLC, he led the unsuccessful Albany Movement in Albany, Georgia, and helped organize some of the nonviolent 1963 protests in Birmingham, Alabama. King helped organize the 1963 March on Washington, where he delivered his famous \"I Have a Dream\" speech on the steps of the Lincoln Memorial.\\n\\nThe SCLC put into practice the tactics of nonviolent protest with some success by strategically choosing the methods and places in which protests were carried out. There were several dramatic stand-offs with segregationist authorities, who sometimes turned violent.[2] Federal Bureau of Investigation (FBI) Director J. Edgar Hoover considered King a radical and made him an object of the FBI\\'s COINTELPRO from 1963, forward. FBI agents investigated him for possible communist ties, recorded his extramarital affairs and reported on them to government officials, and, in 1964, mailed King a threatening anonymous letter, which he interpreted as an attempt to make him commit suicide.[3]\\n\\nOn October 14, 1964, King won the Nobel Peace Prize for combating racial inequality through nonviolent resistance. In 1965, he helped organize two of the three Selma to Montgomery marches. In his final years, he expanded his focus to include opposition towards poverty, capitalism, and the Vietnam War.\\n\\nIn 1968, King was planning a national occupation of Washington, D.C., to be called the Poor People\\'s Campaign, when he was assassinated on April 4 in Memphis, Tennessee. His death was followed by riots in many U.S. cities. Allegations that James Earl Ray, the man convicted of killing King, had been framed or acted in concert with government agents persisted for decades after the shooting. King was posthumously awarded the Presidential Medal of Freedom in 1977 and the Congressional Gold Medal in 2003. Martin Luther King Jr. Day was established as a holiday in cities and states throughout the United States beginning in 1971; the holiday was enacted at the federal level by legislation signed by President Ronald Reagan in 1986. Hundreds of streets in the U.S. have been renamed in his honor, and the most populous county in Washington State was rededicated for him. The Martin Luther King Jr. Memorial on the National Mall in Washington, D.C., was dedicated in 2011.'"
      ]
     },
     "execution_count": 8,
     "metadata": {},
     "output_type": "execute_result"
    }
   ],
   "source": [
    "text"
   ]
  },
  {
   "cell_type": "code",
   "execution_count": 12,
   "id": "a1414885",
   "metadata": {},
   "outputs": [
    {
     "name": "stdout",
     "output_type": "stream",
     "text": [
      "102\n",
      "(451313080118390996, 0, 1) Martin\n",
      "(451313080118390996, 1, 2) Luther\n",
      "(451313080118390996, 2, 3) King\n",
      "(451313080118390996, 3, 4) Jr.\n",
      "(451313080118390996, 6, 7) Michael\n",
      "(451313080118390996, 7, 8) King\n",
      "(451313080118390996, 8, 9) Jr.\n",
      "(451313080118390996, 10, 11) January\n",
      "(451313080118390996, 15, 16) April\n",
      "(451313080118390996, 23, 24) Baptist\n"
     ]
    }
   ],
   "source": [
    "nlp = spacy.load('en_core_web_sm')\n",
    "matcher = Matcher(nlp.vocab)\n",
    "pattern = [{\"POS\" : \"PROPN\"}] #CAN CHECK THE SPACY DOCUMENTATION TO SEE RULES AND SYNTAX\n",
    "matcher.add(\"PROPER_NOUN\", [pattern])\n",
    "doc = nlp(text)\n",
    "matches = matcher(doc)\n",
    "print(len(matches))\n",
    "for match in matches[0:10] :\n",
    "    print(match, doc[match[1]:match[2]])"
   ]
  },
  {
   "cell_type": "code",
   "execution_count": 17,
   "id": "2c72e209",
   "metadata": {},
   "outputs": [
    {
     "name": "stdout",
     "output_type": "stream",
     "text": [
      "175\n",
      "(451313080118390996, 0, 1) Martin\n",
      "(451313080118390996, 0, 2) Martin Luther\n",
      "(451313080118390996, 1, 2) Luther\n",
      "(451313080118390996, 0, 3) Martin Luther King\n",
      "(451313080118390996, 1, 3) Luther King\n",
      "(451313080118390996, 2, 3) King\n",
      "(451313080118390996, 0, 4) Martin Luther King Jr.\n",
      "(451313080118390996, 1, 4) Luther King Jr.\n",
      "(451313080118390996, 2, 4) King Jr.\n",
      "(451313080118390996, 3, 4) Jr.\n"
     ]
    }
   ],
   "source": [
    "nlp = spacy.load('en_core_web_sm')\n",
    "matcher = Matcher(nlp.vocab)\n",
    "pattern = [{\"POS\" : \"PROPN\", \"OP\" : \"+\"}] #CAN CHECK THE SPACY DOCUMENTATION TO SEE RULES AND SYNTAX\n",
    "matcher.add(\"PROPER_NOUN\", [pattern])\n",
    "doc = nlp(text)\n",
    "matches = matcher(doc)\n",
    "print(len(matches))\n",
    "for match in matches[0:10] :\n",
    "    print(match, doc[match[1]:match[2]])"
   ]
  },
  {
   "cell_type": "code",
   "execution_count": 21,
   "id": "601d9403",
   "metadata": {},
   "outputs": [
    {
     "name": "stdout",
     "output_type": "stream",
     "text": [
      "61\n",
      "(451313080118390996, 83, 88) Martin Luther King Sr.\n",
      "(451313080118390996, 469, 474) Martin Luther King Jr. Day\n",
      "(451313080118390996, 536, 541) Martin Luther King Jr. Memorial\n",
      "(451313080118390996, 0, 4) Martin Luther King Jr.\n",
      "(451313080118390996, 128, 132) Southern Christian Leadership Conference\n",
      "(451313080118390996, 247, 251) Director J. Edgar Hoover\n",
      "(451313080118390996, 6, 9) Michael King Jr.\n",
      "(451313080118390996, 325, 328) Nobel Peace Prize\n",
      "(451313080118390996, 422, 425) James Earl Ray\n",
      "(451313080118390996, 463, 466) Congressional Gold Medal\n"
     ]
    }
   ],
   "source": [
    "nlp = spacy.load('en_core_web_sm')\n",
    "matcher = Matcher(nlp.vocab)\n",
    "pattern = [{\"POS\" : \"PROPN\", \"OP\" : \"+\"}] #CAN CHECK THE SPACY DOCUMENTATION TO SEE RULES AND SYNTAX\n",
    "matcher.add(\"PROPER_NOUN\", [pattern], greedy = \"LONGEST\")\n",
    "doc = nlp(text)\n",
    "matches = matcher(doc)\n",
    "print(len(matches))\n",
    "for match in matches[0:10] :\n",
    "    print(match, doc[match[1]:match[2]])\n",
    "#THIS MOST PROBABLY SORTS IN DESCENDING ORDER - CHECK THE REVERSE TO GET SINGLE WORD TOKENS"
   ]
  },
  {
   "cell_type": "code",
   "execution_count": 22,
   "id": "dee8b2b6",
   "metadata": {},
   "outputs": [
    {
     "name": "stdout",
     "output_type": "stream",
     "text": [
      "61\n",
      "(451313080118390996, 0, 4) Martin Luther King Jr.\n",
      "(451313080118390996, 6, 9) Michael King Jr.\n",
      "(451313080118390996, 10, 11) January\n",
      "(451313080118390996, 15, 16) April\n",
      "(451313080118390996, 23, 24) Baptist\n",
      "(451313080118390996, 49, 50) King\n",
      "(451313080118390996, 69, 71) Mahatma Gandhi\n",
      "(451313080118390996, 83, 88) Martin Luther King Sr.\n",
      "(451313080118390996, 89, 90) King\n",
      "(451313080118390996, 113, 114) King\n"
     ]
    }
   ],
   "source": [
    "nlp = spacy.load('en_core_web_sm')\n",
    "matcher = Matcher(nlp.vocab)\n",
    "pattern = [{\"POS\" : \"PROPN\", \"OP\" : \"+\"}] #CAN CHECK THE SPACY DOCUMENTATION TO SEE RULES AND SYNTAX\n",
    "matcher.add(\"PROPER_NOUN\", [pattern], greedy = \"LONGEST\")\n",
    "doc = nlp(text)\n",
    "matches = matcher(doc)\n",
    "matches.sort(key = lambda x: x[1]) #***, {\"POS\" : \"VERB\"}\n",
    "print(len(matches))\n",
    "for match in matches[0:10] :\n",
    "    print(match, doc[match[1]:match[2]])\n",
    "#IN ORDER OF INDEX"
   ]
  },
  {
   "cell_type": "code",
   "execution_count": 32,
   "id": "792936c7",
   "metadata": {},
   "outputs": [
    {
     "name": "stdout",
     "output_type": "stream",
     "text": [
      "7\n",
      "(451313080118390996, 49, 51) King advanced\n",
      "(451313080118390996, 89, 91) King participated\n",
      "(451313080118390996, 113, 115) King led\n",
      "(451313080118390996, 167, 169) King helped\n",
      "(451313080118390996, 247, 252) Director J. Edgar Hoover considered\n",
      "(451313080118390996, 322, 324) King won\n",
      "(451313080118390996, 485, 488) United States beginning\n"
     ]
    }
   ],
   "source": [
    "nlp = spacy.load('en_core_web_sm')\n",
    "matcher = Matcher(nlp.vocab)\n",
    "pattern = [{\"POS\" : \"PROPN\", \"OP\" : \"+\"}, {\"POS\" : \"VERB\"}] #CAN CHECK THE SPACY DOCUMENTATION TO SEE RULES AND SYNTAX\n",
    "matcher.add(\"PROPER_NOUN\", [pattern], greedy = \"LONGEST\")\n",
    "doc = nlp(text)\n",
    "matches = matcher(doc)\n",
    "matches.sort(key = lambda x: x[1]) #***\n",
    "print(len(matches))\n",
    "for match in matches[0:10] :\n",
    "    print(match, doc[match[1]:match[2]])\n",
    "# FOLLOWED BY A VERB"
   ]
  },
  {
   "cell_type": "code",
   "execution_count": 33,
   "id": "79378f30",
   "metadata": {},
   "outputs": [
    {
     "name": "stdout",
     "output_type": "stream",
     "text": [
      "5\n",
      "(451313080118390996, 89, 91) King participated\n",
      "(451313080118390996, 113, 115) King led\n",
      "(451313080118390996, 247, 252) Director J. Edgar Hoover considered\n",
      "(451313080118390996, 322, 324) King won\n",
      "(451313080118390996, 485, 488) United States beginning\n"
     ]
    }
   ],
   "source": [
    "nlp = spacy.load('en_core_web_md')\n",
    "matcher = Matcher(nlp.vocab)\n",
    "pattern = [{\"POS\" : \"PROPN\", \"OP\" : \"+\"}, {\"POS\" : \"VERB\"}] #CAN CHECK THE SPACY DOCUMENTATION TO SEE RULES AND SYNTAX\n",
    "matcher.add(\"PROPER_NOUN\", [pattern], greedy = \"LONGEST\")\n",
    "doc = nlp(text)\n",
    "matches = matcher(doc)\n",
    "matches.sort(key = lambda x: x[1]) #***\n",
    "print(len(matches))\n",
    "for match in matches[0:10] :\n",
    "    print(match, doc[match[1]:match[2]])\n",
    "# FOLLOWED BY A VERB with md model"
   ]
  },
  {
   "cell_type": "code",
   "execution_count": 34,
   "id": "bbc095cf",
   "metadata": {},
   "outputs": [],
   "source": [
    "import json"
   ]
  },
  {
   "cell_type": "code",
   "execution_count": 36,
   "id": "0fec248d",
   "metadata": {},
   "outputs": [],
   "source": [
    "import json\n",
    "with open (\"alice.json\", \"r\") as f:\n",
    "    data = json.load(f)"
   ]
  },
  {
   "cell_type": "code",
   "execution_count": 37,
   "id": "296badf7",
   "metadata": {},
   "outputs": [
    {
     "name": "stdout",
     "output_type": "stream",
     "text": [
      "Alice was beginning to get very tired of sitting by her sister on the bank, and of having nothing to do: once or twice she had peeped into the book her sister was reading, but it had no pictures or conversations in it, `and what is the use of a book,' thought Alice `without pictures or conversation?'\n"
     ]
    }
   ],
   "source": [
    "text = data[0][2][0]\n",
    "print (text)"
   ]
  },
  {
   "cell_type": "code",
   "execution_count": 38,
   "id": "e44765f7",
   "metadata": {},
   "outputs": [
    {
     "data": {
      "text/plain": [
       "\"Alice was beginning to get very tired of sitting by her sister on the bank, and of having nothing to do: once or twice she had peeped into the book her sister was reading, but it had no pictures or conversations in it, 'and what is the use of a book,' thought Alice 'without pictures or conversation?'\""
      ]
     },
     "execution_count": 38,
     "metadata": {},
     "output_type": "execute_result"
    }
   ],
   "source": [
    "text = text.replace(\"`\", \"'\")\n",
    "text"
   ]
  },
  {
   "cell_type": "code",
   "execution_count": 44,
   "id": "3c2d6baa",
   "metadata": {},
   "outputs": [
    {
     "name": "stdout",
     "output_type": "stream",
     "text": [
      "1\n",
      "(451313080118390996, 47, 67) 'and what is the use of a book,' thought Alice 'without pictures or conversation?'\n"
     ]
    }
   ],
   "source": [
    "speak_lemmas = [\"think\", \"say\"]\n",
    "nlp = spacy.load('en_core_web_sm')\n",
    "matcher = Matcher(nlp.vocab)\n",
    "pattern = [\n",
    "           {\"ORTH\" : \"'\"}, \n",
    "           {\"IS_ALPHA\" : True, \"OP\" : \"+\"},\n",
    "           {\"IS_PUNCT\" : True, \"OP\" : \"*\"},\n",
    "           {\"ORTH\" : \"'\"},\n",
    "           {\"POS\" : \"VERB\", \"LEMMA\": { \"IN\" : speak_lemmas}},\n",
    "           {\"POS\" : \"PROPN\", \"OP\" : \"+\"},\n",
    "           {\"ORTH\" : \"'\"}, \n",
    "           {\"IS_ALPHA\" : True, \"OP\" : \"+\"},\n",
    "           {\"IS_PUNCT\" : True, \"OP\" : \"*\"},\n",
    "           {\"ORTH\" : \"'\"}\n",
    "    \n",
    "          ] #CAN CHECK THE SPACY DOCUMENTATION TO SEE RULES AND SYNTAX\n",
    "matcher.add(\"PROPER_NOUN\", [pattern], greedy = \"LONGEST\")\n",
    "doc = nlp(text)\n",
    "matches = matcher(doc)\n",
    "matches.sort(key = lambda x: x[1]) #***\n",
    "print(len(matches))\n",
    "for match in matches[0:10] :\n",
    "    print(match, doc[match[1]:match[2]])\n",
    "# task is to find who the speaker is - we've found what was spoken so far"
   ]
  },
  {
   "cell_type": "code",
   "execution_count": null,
   "id": "084568ea",
   "metadata": {},
   "outputs": [],
   "source": []
  }
 ],
 "metadata": {
  "kernelspec": {
   "display_name": "Python 3 (ipykernel)",
   "language": "python",
   "name": "python3"
  },
  "language_info": {
   "codemirror_mode": {
    "name": "ipython",
    "version": 3
   },
   "file_extension": ".py",
   "mimetype": "text/x-python",
   "name": "python",
   "nbconvert_exporter": "python",
   "pygments_lexer": "ipython3",
   "version": "3.11.4"
  }
 },
 "nbformat": 4,
 "nbformat_minor": 5
}
